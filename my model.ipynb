{
  "cells": [
    {
      "metadata": {
        "_cell_guid": "e81ee64d-e474-4662-9036-ce23df615199",
        "_uuid": "b6269c0e8f417f82daf093dda8fa0da6d2c57d86"
      },
      "cell_type": "markdown",
      "source": "# Introduction\n**This will be your workspace for Kaggle's Machine Learning education track.**\n\nYou will build and continually improve a model to predict housing prices as you work through each tutorial.  Fork this notebook and write your code in it.\n\nThe data from the tutorial, the Melbourne data, is not available in this workspace.  You will need to translate the concepts to work with the data in this notebook, the Iowa data.\n\nCome to the [Learn Discussion](https://www.kaggle.com/learn-forum) forum for any questions or comments. \n\n# Write Your Code Below\n\n"
    },
    {
      "metadata": {
        "_cell_guid": "86b26423-563a-4fa1-a595-89e25ff93089",
        "_uuid": "1c728098629e1301643443b1341556a15c089b2b",
        "trusted": false,
        "collapsed": true
      },
      "cell_type": "code",
      "source": "import pandas as pd\n\ntrain_path = '../input/train.csv'\ntrain_data = pd.read_csv(train_path)\ntrain_data = train_data.fillna(train_data.mean()) #add this\nprint('list of columns /n')\n#----print columns, data,\nprint(train_data.columns)\n#data_OverallQual=train_data.OverallQual\n#print(train_data_OverallQual.head())\n#print(train_data.describe())\n#print(train_data.LotArea.describe())\n#-------Data frame of two columns\ncolumns_of_interest=['LotArea','OverallQual']\ntwo_columns_of_data = train_data[columns_of_interest]\n#two_columns_of_data.describe()\ntrain_data.describe()\n#print(data['LotArea','OverallQual'].describe())\n\n#print(data.Street.describe())",
      "execution_count": null,
      "outputs": []
    },
    {
      "metadata": {
        "_cell_guid": "9584636e-cad6-498a-a0c7-b914f8dc7cec",
        "_uuid": "98b293f9de0268ae7ce4d11c90457a54f250f61e",
        "collapsed": true,
        "trusted": false
      },
      "cell_type": "code",
      "source": "y=train_data.SalePrice #y is prediction target\ntrain_predictors=['MSSubClass','LotFrontage','LotArea','OverallQual']\nX=train_data[train_predictors]\n#train_data = train_data.dropna()",
      "execution_count": null,
      "outputs": []
    },
    {
      "metadata": {
        "_kg_hide-output": true,
        "_cell_guid": "88fcc8cc-1253-42a8-81a6-f315759a5c52",
        "_uuid": "d6e26123c6aaaa5c4d739a1e53e55ba0246e5216",
        "trusted": false,
        "collapsed": true
      },
      "cell_type": "code",
      "source": "from sklearn.tree import DecisionTreeRegressor\n    #define model\ntrain_model=DecisionTreeRegressor()\n    \n    #fit model\ntrain_model.fit(X,y)\n\n#predict\nprint(\"Making predictions for the following:\")\nprint(X.head())\nprint(\"Predicted output for salePrice with only above parameters:\")\nprint(train_model.predict(X.head()))\n\n    #evaluate, model validation\nfrom sklearn.metrics import mean_absolute_error\npredicted_salePrice=train_model.predict(X)\nprint(\"Mean Absolute Error:\")\nmean_absolute_error(y,predicted_salePrice)\n    ",
      "execution_count": null,
      "outputs": []
    },
    {
      "metadata": {
        "_cell_guid": "419d84f6-4626-4589-8a76-39cd21f23d99",
        "_uuid": "41948a0459aadf279cecbc521c8c6f82b9939c8d",
        "trusted": false,
        "collapsed": true
      },
      "cell_type": "code",
      "source": "#-------making predictions on new data... validation data\nfrom sklearn.model_selection import train_test_split\n# split data into training and validation data, for both predictors and target\n# The split is based on a random number generator. Supplying a numeric value to\n# the random_state argument guarantees we get the same split every time we\n# run this script.\n#train_X & train_y gives pattern, in whinch val_X is supplied to get predicted value,\n#This predicted value of y is compared with val_y.. \n#here. val is validation\ntrain_X, val_X, train_y, val_y=train_test_split(X,y,random_state=0)\ntrain_model=DecisionTreeRegressor() # Define model\ntrain_model.fit(train_X,train_y) # Fit model\nval_predictions=train_model.predict(val_X) # get predicted prices on validation data\nprint(\"Mean Absolute Error\")\nprint(mean_absolute_error(val_y,val_predictions))",
      "execution_count": null,
      "outputs": []
    },
    {
      "metadata": {
        "_cell_guid": "eecf8848-aa53-45af-a5ef-525aa2276b6b",
        "_uuid": "c0e000601afcda67e0f8cabb664168aa8ff3589d",
        "trusted": false,
        "collapsed": true
      },
      "cell_type": "code",
      "source": "from sklearn.metrics import mean_absolute_error\nfrom sklearn.tree import DecisionTreeRegressor\n\ndef get_mae(max_leaf_nodes, predictors_train, predictors_val, targ_train, targ_val):\n    model = DecisionTreeRegressor(max_leaf_nodes=max_leaf_nodes, random_state=0)\n    model.fit(predictors_train, targ_train)\n    preds_val = model.predict(predictors_val)\n    mae = mean_absolute_error(targ_val, preds_val)\n    return(mae)\n# compare MAE with differing values of max_leaf_nodes\nfor max_leaf_nodes in [5, 50, 500, 5000]:\n    my_mae = get_mae(max_leaf_nodes, train_X, val_X, train_y, val_y)\n    print(\"Max leaf nodes: %d  \\t\\t Mean Absolute Error:  %d\" %(max_leaf_nodes, my_mae))",
      "execution_count": null,
      "outputs": []
    }
  ],
  "metadata": {
    "language_info": {
      "nbconvert_exporter": "python",
      "mimetype": "text/x-python",
      "codemirror_mode": {
        "version": 3,
        "name": "ipython"
      },
      "name": "python",
      "pygments_lexer": "ipython3",
      "version": "3.6.4",
      "file_extension": ".py"
    },
    "kernelspec": {
      "display_name": "Python 3",
      "language": "python",
      "name": "python3"
    }
  },
  "nbformat": 4,
  "nbformat_minor": 1
}